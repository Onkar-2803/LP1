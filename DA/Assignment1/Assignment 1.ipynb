{
 "cells": [
  {
   "cell_type": "code",
   "execution_count": 91,
   "metadata": {},
   "outputs": [],
   "source": [
    "import pandas as pd\n",
    "import numpy as np\n",
    "from scipy import stats"
   ]
  },
  {
   "cell_type": "code",
   "execution_count": 11,
   "metadata": {},
   "outputs": [],
   "source": [
    "# Directly loading data through library\n",
    "\n",
    "# import numpy as np\n",
    "# import pandas as pd\n",
    "# from sklearn.datasets import load_iris\n",
    "\n",
    "# # save load_iris() sklearn dataset to iris\n",
    "# # if you'd like to check dataset type use: type(load_iris())\n",
    "# # if you'd like to view list of attributes use: dir(load_iris())\n",
    "# iris = load_iris()\n",
    "\n",
    "# # np.c_ is the numpy concatenate function\n",
    "# # which is used to concat iris['data'] and iris['target'] arrays \n",
    "# # for pandas column argument: concat iris['feature_names'] list\n",
    "# # and string list (in this case one string); you can make this anything you'd like..  \n",
    "# # the original dataset would probably call this ['Species']\n",
    "# data1 = pd.DataFrame(data= np.c_[iris['data'], iris['target']],\n",
    "#                      columns= iris['feature_names'] + ['target'])"
   ]
  },
  {
   "cell_type": "code",
   "execution_count": 14,
   "metadata": {},
   "outputs": [
    {
     "name": "stdout",
     "output_type": "stream",
     "text": [
      " Volume in drive F is COLLEGE\n",
      " Volume Serial Number is 14C4-D5AB\n",
      "\n",
      " Directory of F:\\BE\\DA\\Assignment1\n",
      "\n",
      "22-07-2021  11:44    <DIR>          .\n",
      "22-07-2021  11:44    <DIR>          ..\n",
      "20-07-2021  14:38    <DIR>          .ipynb_checkpoints\n",
      "22-07-2021  11:44             2,113 Assignment 1.ipynb\n",
      "22-07-2021  11:43             5,107 Iris.csv\n",
      "               2 File(s)          7,220 bytes\n",
      "               3 Dir(s)  214,611,812,352 bytes free\n"
     ]
    }
   ],
   "source": [
    "ls"
   ]
  },
  {
   "cell_type": "code",
   "execution_count": 15,
   "metadata": {},
   "outputs": [],
   "source": [
    "iris = pd.read_csv('Iris.csv')"
   ]
  },
  {
   "cell_type": "code",
   "execution_count": 16,
   "metadata": {},
   "outputs": [
    {
     "data": {
      "text/html": [
       "<div>\n",
       "<style scoped>\n",
       "    .dataframe tbody tr th:only-of-type {\n",
       "        vertical-align: middle;\n",
       "    }\n",
       "\n",
       "    .dataframe tbody tr th {\n",
       "        vertical-align: top;\n",
       "    }\n",
       "\n",
       "    .dataframe thead th {\n",
       "        text-align: right;\n",
       "    }\n",
       "</style>\n",
       "<table border=\"1\" class=\"dataframe\">\n",
       "  <thead>\n",
       "    <tr style=\"text-align: right;\">\n",
       "      <th></th>\n",
       "      <th>Id</th>\n",
       "      <th>SepalLengthCm</th>\n",
       "      <th>SepalWidthCm</th>\n",
       "      <th>PetalLengthCm</th>\n",
       "      <th>PetalWidthCm</th>\n",
       "      <th>Species</th>\n",
       "    </tr>\n",
       "  </thead>\n",
       "  <tbody>\n",
       "    <tr>\n",
       "      <th>0</th>\n",
       "      <td>1</td>\n",
       "      <td>5.1</td>\n",
       "      <td>3.5</td>\n",
       "      <td>1.4</td>\n",
       "      <td>0.2</td>\n",
       "      <td>Iris-setosa</td>\n",
       "    </tr>\n",
       "    <tr>\n",
       "      <th>1</th>\n",
       "      <td>2</td>\n",
       "      <td>4.9</td>\n",
       "      <td>3.0</td>\n",
       "      <td>1.4</td>\n",
       "      <td>0.2</td>\n",
       "      <td>Iris-setosa</td>\n",
       "    </tr>\n",
       "    <tr>\n",
       "      <th>2</th>\n",
       "      <td>3</td>\n",
       "      <td>4.7</td>\n",
       "      <td>3.2</td>\n",
       "      <td>1.3</td>\n",
       "      <td>0.2</td>\n",
       "      <td>Iris-setosa</td>\n",
       "    </tr>\n",
       "    <tr>\n",
       "      <th>3</th>\n",
       "      <td>4</td>\n",
       "      <td>4.6</td>\n",
       "      <td>3.1</td>\n",
       "      <td>1.5</td>\n",
       "      <td>0.2</td>\n",
       "      <td>Iris-setosa</td>\n",
       "    </tr>\n",
       "    <tr>\n",
       "      <th>4</th>\n",
       "      <td>5</td>\n",
       "      <td>5.0</td>\n",
       "      <td>3.6</td>\n",
       "      <td>1.4</td>\n",
       "      <td>0.2</td>\n",
       "      <td>Iris-setosa</td>\n",
       "    </tr>\n",
       "    <tr>\n",
       "      <th>...</th>\n",
       "      <td>...</td>\n",
       "      <td>...</td>\n",
       "      <td>...</td>\n",
       "      <td>...</td>\n",
       "      <td>...</td>\n",
       "      <td>...</td>\n",
       "    </tr>\n",
       "    <tr>\n",
       "      <th>145</th>\n",
       "      <td>146</td>\n",
       "      <td>6.7</td>\n",
       "      <td>3.0</td>\n",
       "      <td>5.2</td>\n",
       "      <td>2.3</td>\n",
       "      <td>Iris-virginica</td>\n",
       "    </tr>\n",
       "    <tr>\n",
       "      <th>146</th>\n",
       "      <td>147</td>\n",
       "      <td>6.3</td>\n",
       "      <td>2.5</td>\n",
       "      <td>5.0</td>\n",
       "      <td>1.9</td>\n",
       "      <td>Iris-virginica</td>\n",
       "    </tr>\n",
       "    <tr>\n",
       "      <th>147</th>\n",
       "      <td>148</td>\n",
       "      <td>6.5</td>\n",
       "      <td>3.0</td>\n",
       "      <td>5.2</td>\n",
       "      <td>2.0</td>\n",
       "      <td>Iris-virginica</td>\n",
       "    </tr>\n",
       "    <tr>\n",
       "      <th>148</th>\n",
       "      <td>149</td>\n",
       "      <td>6.2</td>\n",
       "      <td>3.4</td>\n",
       "      <td>5.4</td>\n",
       "      <td>2.3</td>\n",
       "      <td>Iris-virginica</td>\n",
       "    </tr>\n",
       "    <tr>\n",
       "      <th>149</th>\n",
       "      <td>150</td>\n",
       "      <td>5.9</td>\n",
       "      <td>3.0</td>\n",
       "      <td>5.1</td>\n",
       "      <td>1.8</td>\n",
       "      <td>Iris-virginica</td>\n",
       "    </tr>\n",
       "  </tbody>\n",
       "</table>\n",
       "<p>150 rows × 6 columns</p>\n",
       "</div>"
      ],
      "text/plain": [
       "      Id  SepalLengthCm  SepalWidthCm  PetalLengthCm  PetalWidthCm  \\\n",
       "0      1            5.1           3.5            1.4           0.2   \n",
       "1      2            4.9           3.0            1.4           0.2   \n",
       "2      3            4.7           3.2            1.3           0.2   \n",
       "3      4            4.6           3.1            1.5           0.2   \n",
       "4      5            5.0           3.6            1.4           0.2   \n",
       "..   ...            ...           ...            ...           ...   \n",
       "145  146            6.7           3.0            5.2           2.3   \n",
       "146  147            6.3           2.5            5.0           1.9   \n",
       "147  148            6.5           3.0            5.2           2.0   \n",
       "148  149            6.2           3.4            5.4           2.3   \n",
       "149  150            5.9           3.0            5.1           1.8   \n",
       "\n",
       "            Species  \n",
       "0       Iris-setosa  \n",
       "1       Iris-setosa  \n",
       "2       Iris-setosa  \n",
       "3       Iris-setosa  \n",
       "4       Iris-setosa  \n",
       "..              ...  \n",
       "145  Iris-virginica  \n",
       "146  Iris-virginica  \n",
       "147  Iris-virginica  \n",
       "148  Iris-virginica  \n",
       "149  Iris-virginica  \n",
       "\n",
       "[150 rows x 6 columns]"
      ]
     },
     "execution_count": 16,
     "metadata": {},
     "output_type": "execute_result"
    }
   ],
   "source": [
    "iris"
   ]
  },
  {
   "cell_type": "code",
   "execution_count": 18,
   "metadata": {},
   "outputs": [
    {
     "name": "stdout",
     "output_type": "stream",
     "text": [
      "Index(['Id', 'SepalLengthCm', 'SepalWidthCm', 'PetalLengthCm', 'PetalWidthCm',\n",
      "       'Species'],\n",
      "      dtype='object')\n"
     ]
    }
   ],
   "source": [
    "print(iris.columns)"
   ]
  },
  {
   "cell_type": "markdown",
   "metadata": {},
   "source": [
    "## Feautres \n",
    "\n",
    "#### There are 5 features\n",
    "\n",
    "#### Type of data:\n",
    "<br>\n",
    "SepalLengthCm-Numerical<br>\n",
    "SepalWidthCm-Numerical<br>\n",
    "PetalLengthCm-Numerical<br>\n",
    "PetalWidthCm-Numerical<br>\n",
    "Species-Categorical<br>"
   ]
  },
  {
   "cell_type": "markdown",
   "metadata": {},
   "source": [
    "## Summary statistics "
   ]
  },
  {
   "cell_type": "code",
   "execution_count": 23,
   "metadata": {},
   "outputs": [],
   "source": [
    "iris = iris.drop(columns=['Id'])"
   ]
  },
  {
   "cell_type": "code",
   "execution_count": 87,
   "metadata": {},
   "outputs": [
    {
     "name": "stdout",
     "output_type": "stream",
     "text": [
      "<class 'pandas.core.frame.DataFrame'>\n",
      "RangeIndex: 150 entries, 0 to 149\n",
      "Data columns (total 5 columns):\n",
      " #   Column         Non-Null Count  Dtype  \n",
      "---  ------         --------------  -----  \n",
      " 0   SepalLengthCm  150 non-null    float64\n",
      " 1   SepalWidthCm   150 non-null    float64\n",
      " 2   PetalLengthCm  150 non-null    float64\n",
      " 3   PetalWidthCm   150 non-null    float64\n",
      " 4   Species        150 non-null    object \n",
      "dtypes: float64(4), object(1)\n",
      "memory usage: 6.0+ KB\n"
     ]
    }
   ],
   "source": [
    "iris.info()"
   ]
  },
  {
   "cell_type": "code",
   "execution_count": 34,
   "metadata": {},
   "outputs": [
    {
     "data": {
      "text/html": [
       "<div>\n",
       "<style scoped>\n",
       "    .dataframe tbody tr th:only-of-type {\n",
       "        vertical-align: middle;\n",
       "    }\n",
       "\n",
       "    .dataframe tbody tr th {\n",
       "        vertical-align: top;\n",
       "    }\n",
       "\n",
       "    .dataframe thead th {\n",
       "        text-align: right;\n",
       "    }\n",
       "</style>\n",
       "<table border=\"1\" class=\"dataframe\">\n",
       "  <thead>\n",
       "    <tr style=\"text-align: right;\">\n",
       "      <th></th>\n",
       "      <th>SepalLengthCm</th>\n",
       "      <th>SepalWidthCm</th>\n",
       "      <th>PetalLengthCm</th>\n",
       "      <th>PetalWidthCm</th>\n",
       "    </tr>\n",
       "  </thead>\n",
       "  <tbody>\n",
       "    <tr>\n",
       "      <th>count</th>\n",
       "      <td>150.000000</td>\n",
       "      <td>150.000000</td>\n",
       "      <td>150.000000</td>\n",
       "      <td>150.000000</td>\n",
       "    </tr>\n",
       "    <tr>\n",
       "      <th>mean</th>\n",
       "      <td>5.843333</td>\n",
       "      <td>3.054000</td>\n",
       "      <td>3.758667</td>\n",
       "      <td>1.198667</td>\n",
       "    </tr>\n",
       "    <tr>\n",
       "      <th>std</th>\n",
       "      <td>0.828066</td>\n",
       "      <td>0.433594</td>\n",
       "      <td>1.764420</td>\n",
       "      <td>0.763161</td>\n",
       "    </tr>\n",
       "    <tr>\n",
       "      <th>min</th>\n",
       "      <td>4.300000</td>\n",
       "      <td>2.000000</td>\n",
       "      <td>1.000000</td>\n",
       "      <td>0.100000</td>\n",
       "    </tr>\n",
       "    <tr>\n",
       "      <th>25%</th>\n",
       "      <td>5.100000</td>\n",
       "      <td>2.800000</td>\n",
       "      <td>1.600000</td>\n",
       "      <td>0.300000</td>\n",
       "    </tr>\n",
       "    <tr>\n",
       "      <th>50%</th>\n",
       "      <td>5.800000</td>\n",
       "      <td>3.000000</td>\n",
       "      <td>4.350000</td>\n",
       "      <td>1.300000</td>\n",
       "    </tr>\n",
       "    <tr>\n",
       "      <th>75%</th>\n",
       "      <td>6.400000</td>\n",
       "      <td>3.300000</td>\n",
       "      <td>5.100000</td>\n",
       "      <td>1.800000</td>\n",
       "    </tr>\n",
       "    <tr>\n",
       "      <th>max</th>\n",
       "      <td>7.900000</td>\n",
       "      <td>4.400000</td>\n",
       "      <td>6.900000</td>\n",
       "      <td>2.500000</td>\n",
       "    </tr>\n",
       "  </tbody>\n",
       "</table>\n",
       "</div>"
      ],
      "text/plain": [
       "       SepalLengthCm  SepalWidthCm  PetalLengthCm  PetalWidthCm\n",
       "count     150.000000    150.000000     150.000000    150.000000\n",
       "mean        5.843333      3.054000       3.758667      1.198667\n",
       "std         0.828066      0.433594       1.764420      0.763161\n",
       "min         4.300000      2.000000       1.000000      0.100000\n",
       "25%         5.100000      2.800000       1.600000      0.300000\n",
       "50%         5.800000      3.000000       4.350000      1.300000\n",
       "75%         6.400000      3.300000       5.100000      1.800000\n",
       "max         7.900000      4.400000       6.900000      2.500000"
      ]
     },
     "execution_count": 34,
     "metadata": {},
     "output_type": "execute_result"
    }
   ],
   "source": [
    "iris.describe()"
   ]
  },
  {
   "cell_type": "markdown",
   "metadata": {},
   "source": [
    "### 1) Mean & Median"
   ]
  },
  {
   "cell_type": "code",
   "execution_count": 24,
   "metadata": {},
   "outputs": [
    {
     "data": {
      "text/html": [
       "<div>\n",
       "<style scoped>\n",
       "    .dataframe tbody tr th:only-of-type {\n",
       "        vertical-align: middle;\n",
       "    }\n",
       "\n",
       "    .dataframe tbody tr th {\n",
       "        vertical-align: top;\n",
       "    }\n",
       "\n",
       "    .dataframe thead tr th {\n",
       "        text-align: left;\n",
       "    }\n",
       "\n",
       "    .dataframe thead tr:last-of-type th {\n",
       "        text-align: right;\n",
       "    }\n",
       "</style>\n",
       "<table border=\"1\" class=\"dataframe\">\n",
       "  <thead>\n",
       "    <tr>\n",
       "      <th></th>\n",
       "      <th colspan=\"2\" halign=\"left\">SepalLengthCm</th>\n",
       "      <th colspan=\"2\" halign=\"left\">SepalWidthCm</th>\n",
       "      <th colspan=\"2\" halign=\"left\">PetalLengthCm</th>\n",
       "      <th colspan=\"2\" halign=\"left\">PetalWidthCm</th>\n",
       "    </tr>\n",
       "    <tr>\n",
       "      <th></th>\n",
       "      <th>mean</th>\n",
       "      <th>median</th>\n",
       "      <th>mean</th>\n",
       "      <th>median</th>\n",
       "      <th>mean</th>\n",
       "      <th>median</th>\n",
       "      <th>mean</th>\n",
       "      <th>median</th>\n",
       "    </tr>\n",
       "    <tr>\n",
       "      <th>Species</th>\n",
       "      <th></th>\n",
       "      <th></th>\n",
       "      <th></th>\n",
       "      <th></th>\n",
       "      <th></th>\n",
       "      <th></th>\n",
       "      <th></th>\n",
       "      <th></th>\n",
       "    </tr>\n",
       "  </thead>\n",
       "  <tbody>\n",
       "    <tr>\n",
       "      <th>Iris-setosa</th>\n",
       "      <td>5.006</td>\n",
       "      <td>5.0</td>\n",
       "      <td>3.418</td>\n",
       "      <td>3.4</td>\n",
       "      <td>1.464</td>\n",
       "      <td>1.50</td>\n",
       "      <td>0.244</td>\n",
       "      <td>0.2</td>\n",
       "    </tr>\n",
       "    <tr>\n",
       "      <th>Iris-versicolor</th>\n",
       "      <td>5.936</td>\n",
       "      <td>5.9</td>\n",
       "      <td>2.770</td>\n",
       "      <td>2.8</td>\n",
       "      <td>4.260</td>\n",
       "      <td>4.35</td>\n",
       "      <td>1.326</td>\n",
       "      <td>1.3</td>\n",
       "    </tr>\n",
       "    <tr>\n",
       "      <th>Iris-virginica</th>\n",
       "      <td>6.588</td>\n",
       "      <td>6.5</td>\n",
       "      <td>2.974</td>\n",
       "      <td>3.0</td>\n",
       "      <td>5.552</td>\n",
       "      <td>5.55</td>\n",
       "      <td>2.026</td>\n",
       "      <td>2.0</td>\n",
       "    </tr>\n",
       "  </tbody>\n",
       "</table>\n",
       "</div>"
      ],
      "text/plain": [
       "                SepalLengthCm        SepalWidthCm        PetalLengthCm         \\\n",
       "                         mean median         mean median          mean median   \n",
       "Species                                                                         \n",
       "Iris-setosa             5.006    5.0        3.418    3.4         1.464   1.50   \n",
       "Iris-versicolor         5.936    5.9        2.770    2.8         4.260   4.35   \n",
       "Iris-virginica          6.588    6.5        2.974    3.0         5.552   5.55   \n",
       "\n",
       "                PetalWidthCm         \n",
       "                        mean median  \n",
       "Species                              \n",
       "Iris-setosa            0.244    0.2  \n",
       "Iris-versicolor        1.326    1.3  \n",
       "Iris-virginica         2.026    2.0  "
      ]
     },
     "execution_count": 24,
     "metadata": {},
     "output_type": "execute_result"
    }
   ],
   "source": [
    "iris.groupby('Species').agg(['mean', 'median'])"
   ]
  },
  {
   "cell_type": "markdown",
   "metadata": {},
   "source": [
    "### 2) Minimum & Maximum Value"
   ]
  },
  {
   "cell_type": "code",
   "execution_count": 25,
   "metadata": {},
   "outputs": [
    {
     "data": {
      "text/plain": [
       "SepalLengthCm            4.3\n",
       "SepalWidthCm             2.0\n",
       "PetalLengthCm            1.0\n",
       "PetalWidthCm             0.1\n",
       "Species          Iris-setosa\n",
       "dtype: object"
      ]
     },
     "execution_count": 25,
     "metadata": {},
     "output_type": "execute_result"
    }
   ],
   "source": [
    "iris.min()"
   ]
  },
  {
   "cell_type": "code",
   "execution_count": 26,
   "metadata": {},
   "outputs": [
    {
     "data": {
      "text/plain": [
       "SepalLengthCm               7.9\n",
       "SepalWidthCm                4.4\n",
       "PetalLengthCm               6.9\n",
       "PetalWidthCm                2.5\n",
       "Species          Iris-virginica\n",
       "dtype: object"
      ]
     },
     "execution_count": 26,
     "metadata": {},
     "output_type": "execute_result"
    }
   ],
   "source": [
    "iris.max()"
   ]
  },
  {
   "cell_type": "code",
   "execution_count": 30,
   "metadata": {},
   "outputs": [
    {
     "data": {
      "text/html": [
       "<div>\n",
       "<style scoped>\n",
       "    .dataframe tbody tr th:only-of-type {\n",
       "        vertical-align: middle;\n",
       "    }\n",
       "\n",
       "    .dataframe tbody tr th {\n",
       "        vertical-align: top;\n",
       "    }\n",
       "\n",
       "    .dataframe thead th {\n",
       "        text-align: right;\n",
       "    }\n",
       "</style>\n",
       "<table border=\"1\" class=\"dataframe\">\n",
       "  <thead>\n",
       "    <tr style=\"text-align: right;\">\n",
       "      <th></th>\n",
       "      <th>SepalLengthCm</th>\n",
       "      <th>SepalWidthCm</th>\n",
       "      <th>PetalLengthCm</th>\n",
       "      <th>PetalWidthCm</th>\n",
       "    </tr>\n",
       "    <tr>\n",
       "      <th>Species</th>\n",
       "      <th></th>\n",
       "      <th></th>\n",
       "      <th></th>\n",
       "      <th></th>\n",
       "    </tr>\n",
       "  </thead>\n",
       "  <tbody>\n",
       "    <tr>\n",
       "      <th>Iris-setosa</th>\n",
       "      <td>4.3</td>\n",
       "      <td>2.3</td>\n",
       "      <td>1.0</td>\n",
       "      <td>0.1</td>\n",
       "    </tr>\n",
       "    <tr>\n",
       "      <th>Iris-versicolor</th>\n",
       "      <td>4.9</td>\n",
       "      <td>2.0</td>\n",
       "      <td>3.0</td>\n",
       "      <td>1.0</td>\n",
       "    </tr>\n",
       "    <tr>\n",
       "      <th>Iris-virginica</th>\n",
       "      <td>4.9</td>\n",
       "      <td>2.2</td>\n",
       "      <td>4.5</td>\n",
       "      <td>1.4</td>\n",
       "    </tr>\n",
       "  </tbody>\n",
       "</table>\n",
       "</div>"
      ],
      "text/plain": [
       "                 SepalLengthCm  SepalWidthCm  PetalLengthCm  PetalWidthCm\n",
       "Species                                                                  \n",
       "Iris-setosa                4.3           2.3            1.0           0.1\n",
       "Iris-versicolor            4.9           2.0            3.0           1.0\n",
       "Iris-virginica             4.9           2.2            4.5           1.4"
      ]
     },
     "execution_count": 30,
     "metadata": {},
     "output_type": "execute_result"
    }
   ],
   "source": [
    "iris.groupby('Species').min()"
   ]
  },
  {
   "cell_type": "code",
   "execution_count": 31,
   "metadata": {},
   "outputs": [
    {
     "data": {
      "text/html": [
       "<div>\n",
       "<style scoped>\n",
       "    .dataframe tbody tr th:only-of-type {\n",
       "        vertical-align: middle;\n",
       "    }\n",
       "\n",
       "    .dataframe tbody tr th {\n",
       "        vertical-align: top;\n",
       "    }\n",
       "\n",
       "    .dataframe thead th {\n",
       "        text-align: right;\n",
       "    }\n",
       "</style>\n",
       "<table border=\"1\" class=\"dataframe\">\n",
       "  <thead>\n",
       "    <tr style=\"text-align: right;\">\n",
       "      <th></th>\n",
       "      <th>SepalLengthCm</th>\n",
       "      <th>SepalWidthCm</th>\n",
       "      <th>PetalLengthCm</th>\n",
       "      <th>PetalWidthCm</th>\n",
       "    </tr>\n",
       "    <tr>\n",
       "      <th>Species</th>\n",
       "      <th></th>\n",
       "      <th></th>\n",
       "      <th></th>\n",
       "      <th></th>\n",
       "    </tr>\n",
       "  </thead>\n",
       "  <tbody>\n",
       "    <tr>\n",
       "      <th>Iris-setosa</th>\n",
       "      <td>5.8</td>\n",
       "      <td>4.4</td>\n",
       "      <td>1.9</td>\n",
       "      <td>0.6</td>\n",
       "    </tr>\n",
       "    <tr>\n",
       "      <th>Iris-versicolor</th>\n",
       "      <td>7.0</td>\n",
       "      <td>3.4</td>\n",
       "      <td>5.1</td>\n",
       "      <td>1.8</td>\n",
       "    </tr>\n",
       "    <tr>\n",
       "      <th>Iris-virginica</th>\n",
       "      <td>7.9</td>\n",
       "      <td>3.8</td>\n",
       "      <td>6.9</td>\n",
       "      <td>2.5</td>\n",
       "    </tr>\n",
       "  </tbody>\n",
       "</table>\n",
       "</div>"
      ],
      "text/plain": [
       "                 SepalLengthCm  SepalWidthCm  PetalLengthCm  PetalWidthCm\n",
       "Species                                                                  \n",
       "Iris-setosa                5.8           4.4            1.9           0.6\n",
       "Iris-versicolor            7.0           3.4            5.1           1.8\n",
       "Iris-virginica             7.9           3.8            6.9           2.5"
      ]
     },
     "execution_count": 31,
     "metadata": {},
     "output_type": "execute_result"
    }
   ],
   "source": [
    "iris.groupby('Species').max()"
   ]
  },
  {
   "cell_type": "markdown",
   "metadata": {},
   "source": [
    "### 3) Standard Deviation"
   ]
  },
  {
   "cell_type": "code",
   "execution_count": 28,
   "metadata": {},
   "outputs": [
    {
     "data": {
      "text/html": [
       "<div>\n",
       "<style scoped>\n",
       "    .dataframe tbody tr th:only-of-type {\n",
       "        vertical-align: middle;\n",
       "    }\n",
       "\n",
       "    .dataframe tbody tr th {\n",
       "        vertical-align: top;\n",
       "    }\n",
       "\n",
       "    .dataframe thead th {\n",
       "        text-align: right;\n",
       "    }\n",
       "</style>\n",
       "<table border=\"1\" class=\"dataframe\">\n",
       "  <thead>\n",
       "    <tr style=\"text-align: right;\">\n",
       "      <th></th>\n",
       "      <th>SepalLengthCm</th>\n",
       "      <th>SepalWidthCm</th>\n",
       "      <th>PetalLengthCm</th>\n",
       "      <th>PetalWidthCm</th>\n",
       "    </tr>\n",
       "    <tr>\n",
       "      <th>Species</th>\n",
       "      <th></th>\n",
       "      <th></th>\n",
       "      <th></th>\n",
       "      <th></th>\n",
       "    </tr>\n",
       "  </thead>\n",
       "  <tbody>\n",
       "    <tr>\n",
       "      <th>Iris-setosa</th>\n",
       "      <td>0.352490</td>\n",
       "      <td>0.381024</td>\n",
       "      <td>0.173511</td>\n",
       "      <td>0.107210</td>\n",
       "    </tr>\n",
       "    <tr>\n",
       "      <th>Iris-versicolor</th>\n",
       "      <td>0.516171</td>\n",
       "      <td>0.313798</td>\n",
       "      <td>0.469911</td>\n",
       "      <td>0.197753</td>\n",
       "    </tr>\n",
       "    <tr>\n",
       "      <th>Iris-virginica</th>\n",
       "      <td>0.635880</td>\n",
       "      <td>0.322497</td>\n",
       "      <td>0.551895</td>\n",
       "      <td>0.274650</td>\n",
       "    </tr>\n",
       "  </tbody>\n",
       "</table>\n",
       "</div>"
      ],
      "text/plain": [
       "                 SepalLengthCm  SepalWidthCm  PetalLengthCm  PetalWidthCm\n",
       "Species                                                                  \n",
       "Iris-setosa           0.352490      0.381024       0.173511      0.107210\n",
       "Iris-versicolor       0.516171      0.313798       0.469911      0.197753\n",
       "Iris-virginica        0.635880      0.322497       0.551895      0.274650"
      ]
     },
     "execution_count": 28,
     "metadata": {},
     "output_type": "execute_result"
    }
   ],
   "source": [
    "iris.groupby('Species').std()"
   ]
  },
  {
   "cell_type": "markdown",
   "metadata": {},
   "source": [
    "### 4) Variance"
   ]
  },
  {
   "cell_type": "code",
   "execution_count": 36,
   "metadata": {},
   "outputs": [
    {
     "data": {
      "text/plain": [
       "SepalLengthCm    0.685694\n",
       "SepalWidthCm     0.188004\n",
       "PetalLengthCm    3.113179\n",
       "PetalWidthCm     0.582414\n",
       "dtype: float64"
      ]
     },
     "execution_count": 36,
     "metadata": {},
     "output_type": "execute_result"
    }
   ],
   "source": [
    "iris.var()"
   ]
  },
  {
   "cell_type": "code",
   "execution_count": 40,
   "metadata": {},
   "outputs": [
    {
     "data": {
      "text/html": [
       "<div>\n",
       "<style scoped>\n",
       "    .dataframe tbody tr th:only-of-type {\n",
       "        vertical-align: middle;\n",
       "    }\n",
       "\n",
       "    .dataframe tbody tr th {\n",
       "        vertical-align: top;\n",
       "    }\n",
       "\n",
       "    .dataframe thead th {\n",
       "        text-align: right;\n",
       "    }\n",
       "</style>\n",
       "<table border=\"1\" class=\"dataframe\">\n",
       "  <thead>\n",
       "    <tr style=\"text-align: right;\">\n",
       "      <th></th>\n",
       "      <th>SepalLengthCm</th>\n",
       "      <th>SepalWidthCm</th>\n",
       "      <th>PetalLengthCm</th>\n",
       "      <th>PetalWidthCm</th>\n",
       "    </tr>\n",
       "    <tr>\n",
       "      <th>Species</th>\n",
       "      <th></th>\n",
       "      <th></th>\n",
       "      <th></th>\n",
       "      <th></th>\n",
       "    </tr>\n",
       "  </thead>\n",
       "  <tbody>\n",
       "    <tr>\n",
       "      <th>Iris-setosa</th>\n",
       "      <td>0.124249</td>\n",
       "      <td>0.145180</td>\n",
       "      <td>0.030106</td>\n",
       "      <td>0.011494</td>\n",
       "    </tr>\n",
       "    <tr>\n",
       "      <th>Iris-versicolor</th>\n",
       "      <td>0.266433</td>\n",
       "      <td>0.098469</td>\n",
       "      <td>0.220816</td>\n",
       "      <td>0.039106</td>\n",
       "    </tr>\n",
       "    <tr>\n",
       "      <th>Iris-virginica</th>\n",
       "      <td>0.404343</td>\n",
       "      <td>0.104004</td>\n",
       "      <td>0.304588</td>\n",
       "      <td>0.075433</td>\n",
       "    </tr>\n",
       "  </tbody>\n",
       "</table>\n",
       "</div>"
      ],
      "text/plain": [
       "                 SepalLengthCm  SepalWidthCm  PetalLengthCm  PetalWidthCm\n",
       "Species                                                                  \n",
       "Iris-setosa           0.124249      0.145180       0.030106      0.011494\n",
       "Iris-versicolor       0.266433      0.098469       0.220816      0.039106\n",
       "Iris-virginica        0.404343      0.104004       0.304588      0.075433"
      ]
     },
     "execution_count": 40,
     "metadata": {},
     "output_type": "execute_result"
    }
   ],
   "source": [
    "iris.groupby('Species').var()"
   ]
  },
  {
   "cell_type": "markdown",
   "metadata": {},
   "source": [
    "### 5) Co-relation"
   ]
  },
  {
   "cell_type": "code",
   "execution_count": 41,
   "metadata": {},
   "outputs": [
    {
     "data": {
      "text/html": [
       "<div>\n",
       "<style scoped>\n",
       "    .dataframe tbody tr th:only-of-type {\n",
       "        vertical-align: middle;\n",
       "    }\n",
       "\n",
       "    .dataframe tbody tr th {\n",
       "        vertical-align: top;\n",
       "    }\n",
       "\n",
       "    .dataframe thead th {\n",
       "        text-align: right;\n",
       "    }\n",
       "</style>\n",
       "<table border=\"1\" class=\"dataframe\">\n",
       "  <thead>\n",
       "    <tr style=\"text-align: right;\">\n",
       "      <th></th>\n",
       "      <th>SepalLengthCm</th>\n",
       "      <th>SepalWidthCm</th>\n",
       "      <th>PetalLengthCm</th>\n",
       "      <th>PetalWidthCm</th>\n",
       "    </tr>\n",
       "  </thead>\n",
       "  <tbody>\n",
       "    <tr>\n",
       "      <th>SepalLengthCm</th>\n",
       "      <td>1.000000</td>\n",
       "      <td>-0.109369</td>\n",
       "      <td>0.871754</td>\n",
       "      <td>0.817954</td>\n",
       "    </tr>\n",
       "    <tr>\n",
       "      <th>SepalWidthCm</th>\n",
       "      <td>-0.109369</td>\n",
       "      <td>1.000000</td>\n",
       "      <td>-0.420516</td>\n",
       "      <td>-0.356544</td>\n",
       "    </tr>\n",
       "    <tr>\n",
       "      <th>PetalLengthCm</th>\n",
       "      <td>0.871754</td>\n",
       "      <td>-0.420516</td>\n",
       "      <td>1.000000</td>\n",
       "      <td>0.962757</td>\n",
       "    </tr>\n",
       "    <tr>\n",
       "      <th>PetalWidthCm</th>\n",
       "      <td>0.817954</td>\n",
       "      <td>-0.356544</td>\n",
       "      <td>0.962757</td>\n",
       "      <td>1.000000</td>\n",
       "    </tr>\n",
       "  </tbody>\n",
       "</table>\n",
       "</div>"
      ],
      "text/plain": [
       "               SepalLengthCm  SepalWidthCm  PetalLengthCm  PetalWidthCm\n",
       "SepalLengthCm       1.000000     -0.109369       0.871754      0.817954\n",
       "SepalWidthCm       -0.109369      1.000000      -0.420516     -0.356544\n",
       "PetalLengthCm       0.871754     -0.420516       1.000000      0.962757\n",
       "PetalWidthCm        0.817954     -0.356544       0.962757      1.000000"
      ]
     },
     "execution_count": 41,
     "metadata": {},
     "output_type": "execute_result"
    }
   ],
   "source": [
    "iris.corr()"
   ]
  },
  {
   "cell_type": "markdown",
   "metadata": {},
   "source": [
    "## Histogram"
   ]
  },
  {
   "cell_type": "code",
   "execution_count": 43,
   "metadata": {},
   "outputs": [
    {
     "data": {
      "image/png": "[encoded data removed]",
      "text/plain": [
       "<Figure size 432x288 with 1 Axes>"
      ]
     },
     "metadata": {
      "needs_background": "light"
     },
     "output_type": "display_data"
    }
   ],
   "source": [
    "hist = iris.hist(column = 'SepalLengthCm')"
   ]
  },
  {
   "cell_type": "code",
   "execution_count": 47,
   "metadata": {},
   "outputs": [
    {
     "data": {
      "image/png": "[encoded data removed]",
      "text/plain": [
       "<Figure size 432x288 with 1 Axes>"
      ]
     },
     "metadata": {
      "needs_background": "light"
     },
     "output_type": "display_data"
    }
   ],
   "source": [
    "hist = iris.hist(column = 'SepalWidthCm')"
   ]
  },
  {
   "cell_type": "code",
   "execution_count": 48,
   "metadata": {},
   "outputs": [
    {
     "data": {
      "image/png": "[encoded data removed]",
      "text/plain": [
       "<Figure size 432x288 with 1 Axes>"
      ]
     },
     "metadata": {
      "needs_background": "light"
     },
     "output_type": "display_data"
    }
   ],
   "source": [
    "hist = iris.hist(column = 'PetalLengthCm')"
   ]
  },
  {
   "cell_type": "code",
   "execution_count": 49,
   "metadata": {},
   "outputs": [
    {
     "data": {
      "image/png": "[encoded data removed]",
      "text/plain": [
       "<Figure size 432x288 with 1 Axes>"
      ]
     },
     "metadata": {
      "needs_background": "light"
     },
     "output_type": "display_data"
    }
   ],
   "source": [
    "hist = iris.hist(column = 'PetalWidthCm')"
   ]
  },
  {
   "cell_type": "markdown",
   "metadata": {},
   "source": [
    "## Boxplot"
   ]
  },
  {
   "cell_type": "code",
   "execution_count": 52,
   "metadata": {},
   "outputs": [
    {
     "data": {
      "image/png": "[encoded data removed]",
      "text/plain": [
       "<Figure size 432x288 with 1 Axes>"
      ]
     },
     "metadata": {
      "needs_background": "light"
     },
     "output_type": "display_data"
    }
   ],
   "source": [
    "boxplot = iris.boxplot(column=['SepalLengthCm'])"
   ]
  },
  {
   "cell_type": "code",
   "execution_count": 55,
   "metadata": {},
   "outputs": [
    {
     "data": {
      "image/png": "[encoded data removed]",
      "text/plain": [
       "<Figure size 432x288 with 1 Axes>"
      ]
     },
     "metadata": {
      "needs_background": "light"
     },
     "output_type": "display_data"
    }
   ],
   "source": [
    "boxplot = iris.boxplot(column=['SepalWidthCm'])"
   ]
  },
  {
   "cell_type": "code",
   "execution_count": 56,
   "metadata": {},
   "outputs": [
    {
     "data": {
      "image/png": "[encoded data removed]",
      "text/plain": [
       "<Figure size 432x288 with 1 Axes>"
      ]
     },
     "metadata": {
      "needs_background": "light"
     },
     "output_type": "display_data"
    }
   ],
   "source": [
    "boxplot = iris.boxplot(column=['PetalLengthCm'])"
   ]
  },
  {
   "cell_type": "code",
   "execution_count": 57,
   "metadata": {},
   "outputs": [
    {
     "data": {
      "image/png": "[encoded data removed]",
      "text/plain": [
       "<Figure size 432x288 with 1 Axes>"
      ]
     },
     "metadata": {
      "needs_background": "light"
     },
     "output_type": "display_data"
    }
   ],
   "source": [
    "boxplot = iris.boxplot(column=['PetalWidthCm'])"
   ]
  },
  {
   "cell_type": "code",
   "execution_count": 60,
   "metadata": {},
   "outputs": [],
   "source": [
    "col = list(iris.columns)"
   ]
  },
  {
   "cell_type": "code",
   "execution_count": 62,
   "metadata": {},
   "outputs": [
    {
     "data": {
      "text/plain": [
       "['SepalLengthCm', 'SepalWidthCm', 'PetalLengthCm', 'PetalWidthCm', 'Species']"
      ]
     },
     "execution_count": 62,
     "metadata": {},
     "output_type": "execute_result"
    }
   ],
   "source": [
    "col"
   ]
  },
  {
   "cell_type": "code",
   "execution_count": 63,
   "metadata": {},
   "outputs": [
    {
     "name": "stdout",
     "output_type": "stream",
     "text": [
      "['SepalLengthCm', 'SepalWidthCm', 'PetalLengthCm', 'PetalWidthCm']\n"
     ]
    }
   ],
   "source": [
    "col.remove('Species')\n",
    "print(col)"
   ]
  },
  {
   "cell_type": "code",
   "execution_count": 64,
   "metadata": {},
   "outputs": [
    {
     "data": {
      "image/png": "[encoded data removed]",
      "text/plain": [
       "<Figure size 432x288 with 1 Axes>"
      ]
     },
     "metadata": {
      "needs_background": "light"
     },
     "output_type": "display_data"
    }
   ],
   "source": [
    "boxplot = iris.boxplot(column=col)"
   ]
  },
  {
   "cell_type": "code",
   "execution_count": 88,
   "metadata": {},
   "outputs": [
    {
     "name": "stdout",
     "output_type": "stream",
     "text": [
      "(array([15, 32, 33], dtype=int64),)\n"
     ]
    }
   ],
   "source": [
    "print(np.where(iris['SepalWidthCm']>4))"
   ]
  },
  {
   "cell_type": "code",
   "execution_count": 89,
   "metadata": {},
   "outputs": [
    {
     "name": "stdout",
     "output_type": "stream",
     "text": [
      "(array([ 41,  53,  57,  60,  62,  68,  80,  81,  87,  93, 119], dtype=int64),)\n"
     ]
    }
   ],
   "source": [
    "print(np.where(iris['SepalWidthCm']<2.5))"
   ]
  },
  {
   "cell_type": "code",
   "execution_count": 93,
   "metadata": {},
   "outputs": [],
   "source": [
    "iris_new = iris.drop(columns = 'Species')"
   ]
  },
  {
   "cell_type": "code",
   "execution_count": 94,
   "metadata": {},
   "outputs": [
    {
     "name": "stdout",
     "output_type": "stream",
     "text": [
      "[[9.00681170e-01 1.03205722e+00 1.34127240e+00 1.31297673e+00]\n",
      " [1.14301691e+00 1.24957601e-01 1.34127240e+00 1.31297673e+00]\n",
      " [1.38535265e+00 3.37848329e-01 1.39813811e+00 1.31297673e+00]\n",
      " [1.50652052e+00 1.06445364e-01 1.28440670e+00 1.31297673e+00]\n",
      " [1.02184904e+00 1.26346019e+00 1.34127240e+00 1.31297673e+00]\n",
      " [5.37177559e-01 1.95766909e+00 1.17067529e+00 1.05003079e+00]\n",
      " [1.50652052e+00 8.00654259e-01 1.34127240e+00 1.18150376e+00]\n",
      " [1.02184904e+00 8.00654259e-01 1.28440670e+00 1.31297673e+00]\n",
      " [1.74885626e+00 3.56360566e-01 1.34127240e+00 1.31297673e+00]\n",
      " [1.14301691e+00 1.06445364e-01 1.28440670e+00 1.44444970e+00]\n",
      " [5.37177559e-01 1.49486315e+00 1.28440670e+00 1.31297673e+00]\n",
      " [1.26418478e+00 8.00654259e-01 1.22754100e+00 1.31297673e+00]\n",
      " [1.26418478e+00 1.24957601e-01 1.34127240e+00 1.44444970e+00]\n",
      " [1.87002413e+00 1.24957601e-01 1.51186952e+00 1.44444970e+00]\n",
      " [5.25060772e-02 2.18907205e+00 1.45500381e+00 1.31297673e+00]\n",
      " [1.73673948e-01 3.11468391e+00 1.28440670e+00 1.05003079e+00]\n",
      " [5.37177559e-01 1.95766909e+00 1.39813811e+00 1.05003079e+00]\n",
      " [9.00681170e-01 1.03205722e+00 1.34127240e+00 1.18150376e+00]\n",
      " [1.73673948e-01 1.72626612e+00 1.17067529e+00 1.18150376e+00]\n",
      " [9.00681170e-01 1.72626612e+00 1.28440670e+00 1.18150376e+00]\n",
      " [5.37177559e-01 8.00654259e-01 1.17067529e+00 1.31297673e+00]\n",
      " [9.00681170e-01 1.49486315e+00 1.28440670e+00 1.05003079e+00]\n",
      " [1.50652052e+00 1.26346019e+00 1.56873522e+00 1.31297673e+00]\n",
      " [9.00681170e-01 5.69251294e-01 1.17067529e+00 9.18557817e-01]\n",
      " [1.26418478e+00 8.00654259e-01 1.05694388e+00 1.31297673e+00]\n",
      " [1.02184904e+00 1.24957601e-01 1.22754100e+00 1.31297673e+00]\n",
      " [1.02184904e+00 8.00654259e-01 1.22754100e+00 1.05003079e+00]\n",
      " [7.79513300e-01 1.03205722e+00 1.28440670e+00 1.31297673e+00]\n",
      " [7.79513300e-01 8.00654259e-01 1.34127240e+00 1.31297673e+00]\n",
      " [1.38535265e+00 3.37848329e-01 1.22754100e+00 1.31297673e+00]\n",
      " [1.26418478e+00 1.06445364e-01 1.22754100e+00 1.31297673e+00]\n",
      " [5.37177559e-01 8.00654259e-01 1.28440670e+00 1.05003079e+00]\n",
      " [7.79513300e-01 2.42047502e+00 1.28440670e+00 1.44444970e+00]\n",
      " [4.16009689e-01 2.65187798e+00 1.34127240e+00 1.31297673e+00]\n",
      " [1.14301691e+00 1.06445364e-01 1.28440670e+00 1.44444970e+00]\n",
      " [1.02184904e+00 3.37848329e-01 1.45500381e+00 1.31297673e+00]\n",
      " [4.16009689e-01 1.03205722e+00 1.39813811e+00 1.31297673e+00]\n",
      " [1.14301691e+00 1.06445364e-01 1.28440670e+00 1.44444970e+00]\n",
      " [1.74885626e+00 1.24957601e-01 1.39813811e+00 1.31297673e+00]\n",
      " [9.00681170e-01 8.00654259e-01 1.28440670e+00 1.31297673e+00]\n",
      " [1.02184904e+00 1.03205722e+00 1.39813811e+00 1.18150376e+00]\n",
      " [1.62768839e+00 1.74477836e+00 1.39813811e+00 1.18150376e+00]\n",
      " [1.74885626e+00 3.37848329e-01 1.39813811e+00 1.31297673e+00]\n",
      " [1.02184904e+00 1.03205722e+00 1.22754100e+00 7.87084847e-01]\n",
      " [9.00681170e-01 1.72626612e+00 1.05694388e+00 1.05003079e+00]\n",
      " [1.26418478e+00 1.24957601e-01 1.34127240e+00 1.18150376e+00]\n",
      " [9.00681170e-01 1.72626612e+00 1.22754100e+00 1.31297673e+00]\n",
      " [1.50652052e+00 3.37848329e-01 1.34127240e+00 1.31297673e+00]\n",
      " [6.58345429e-01 1.49486315e+00 1.28440670e+00 1.31297673e+00]\n",
      " [1.02184904e+00 5.69251294e-01 1.34127240e+00 1.31297673e+00]\n",
      " [1.40150837e+00 3.37848329e-01 5.35295827e-01 2.64698913e-01]\n",
      " [6.74501145e-01 3.37848329e-01 4.21564419e-01 3.96171883e-01]\n",
      " [1.28034050e+00 1.06445364e-01 6.49027235e-01 3.96171883e-01]\n",
      " [4.16009689e-01 1.74477836e+00 1.37235899e-01 1.33225943e-01]\n",
      " [7.95669016e-01 5.87763531e-01 4.78430123e-01 3.96171883e-01]\n",
      " [1.73673948e-01 5.87763531e-01 4.21564419e-01 1.33225943e-01]\n",
      " [5.53333275e-01 5.69251294e-01 5.35295827e-01 5.27644853e-01]\n",
      " [1.14301691e+00 1.51337539e+00 2.60824029e-01 2.61192967e-01]\n",
      " [9.16836886e-01 3.56360566e-01 4.78430123e-01 1.33225943e-01]\n",
      " [7.79513300e-01 8.19166497e-01 8.03701950e-02 2.64698913e-01]\n",
      " [1.02184904e+00 2.43898725e+00 1.47092621e-01 2.61192967e-01]\n",
      " [6.86617933e-02 1.24957601e-01 2.50967307e-01 3.96171883e-01]\n",
      " [1.89829664e-01 1.97618132e+00 1.37235899e-01 2.61192967e-01]\n",
      " [3.10997534e-01 3.56360566e-01 5.35295827e-01 2.64698913e-01]\n",
      " [2.94841818e-01 3.56360566e-01 9.02269170e-02 1.33225943e-01]\n",
      " [1.03800476e+00 1.06445364e-01 3.64698715e-01 2.64698913e-01]\n",
      " [2.94841818e-01 1.24957601e-01 4.21564419e-01 3.96171883e-01]\n",
      " [5.25060772e-02 8.19166497e-01 1.94101603e-01 2.61192967e-01]\n",
      " [4.32165405e-01 1.97618132e+00 4.21564419e-01 3.96171883e-01]\n",
      " [2.94841818e-01 1.28197243e+00 8.03701950e-02 1.29719997e-01]\n",
      " [6.86617933e-02 3.37848329e-01 5.92161531e-01 7.90590793e-01]\n",
      " [3.10997534e-01 5.87763531e-01 1.37235899e-01 1.33225943e-01]\n",
      " [5.53333275e-01 1.28197243e+00 6.49027235e-01 3.96171883e-01]\n",
      " [3.10997534e-01 5.87763531e-01 5.35295827e-01 1.75297293e-03]\n",
      " [6.74501145e-01 3.56360566e-01 3.07833011e-01 1.33225943e-01]\n",
      " [9.16836886e-01 1.24957601e-01 3.64698715e-01 2.64698913e-01]\n",
      " [1.15917263e+00 5.87763531e-01 5.92161531e-01 2.64698913e-01]\n",
      " [1.03800476e+00 1.24957601e-01 7.05892939e-01 6.59117823e-01]\n",
      " [1.89829664e-01 3.56360566e-01 4.21564419e-01 3.96171883e-01]\n",
      " [1.73673948e-01 1.05056946e+00 1.47092621e-01 2.61192967e-01]\n",
      " [4.16009689e-01 1.51337539e+00 2.35044910e-02 1.29719997e-01]\n",
      " [4.16009689e-01 1.51337539e+00 3.33612130e-02 2.61192967e-01]\n",
      " [5.25060772e-02 8.19166497e-01 8.03701950e-02 1.75297293e-03]\n",
      " [1.89829664e-01 8.19166497e-01 7.62758643e-01 5.27644853e-01]\n",
      " [5.37177559e-01 1.24957601e-01 4.21564419e-01 3.96171883e-01]\n",
      " [1.89829664e-01 8.00654259e-01 4.21564419e-01 5.27644853e-01]\n",
      " [1.03800476e+00 1.06445364e-01 5.35295827e-01 3.96171883e-01]\n",
      " [5.53333275e-01 1.74477836e+00 3.64698715e-01 1.33225943e-01]\n",
      " [2.94841818e-01 1.24957601e-01 1.94101603e-01 1.33225943e-01]\n",
      " [4.16009689e-01 1.28197243e+00 1.37235899e-01 1.33225943e-01]\n",
      " [4.16009689e-01 1.05056946e+00 3.64698715e-01 1.75297293e-03]\n",
      " [3.10997534e-01 1.24957601e-01 4.78430123e-01 2.64698913e-01]\n",
      " [5.25060772e-02 1.05056946e+00 1.37235899e-01 1.75297293e-03]\n",
      " [1.02184904e+00 1.74477836e+00 2.60824029e-01 2.61192967e-01]\n",
      " [2.94841818e-01 8.19166497e-01 2.50967307e-01 1.33225943e-01]\n",
      " [1.73673948e-01 1.24957601e-01 2.50967307e-01 1.75297293e-03]\n",
      " [1.73673948e-01 3.56360566e-01 2.50967307e-01 1.33225943e-01]\n",
      " [4.32165405e-01 3.56360566e-01 3.07833011e-01 1.33225943e-01]\n",
      " [9.00681170e-01 1.28197243e+00 4.31421141e-01 1.29719997e-01]\n",
      " [1.73673948e-01 5.87763531e-01 1.94101603e-01 1.33225943e-01]\n",
      " [5.53333275e-01 5.69251294e-01 1.27454998e+00 1.71090158e+00]\n",
      " [5.25060772e-02 8.19166497e-01 7.62758643e-01 9.22063763e-01]\n",
      " [1.52267624e+00 1.24957601e-01 1.21768427e+00 1.18500970e+00]\n",
      " [5.53333275e-01 3.56360566e-01 1.04708716e+00 7.90590793e-01]\n",
      " [7.95669016e-01 1.24957601e-01 1.16081857e+00 1.31648267e+00]\n",
      " [2.12851559e+00 1.24957601e-01 1.61574420e+00 1.18500970e+00]\n",
      " [1.14301691e+00 1.28197243e+00 4.21564419e-01 6.59117823e-01]\n",
      " [1.76501198e+00 3.56360566e-01 1.44514709e+00 7.90590793e-01]\n",
      " [1.03800476e+00 1.28197243e+00 1.16081857e+00 7.90590793e-01]\n",
      " [1.64384411e+00 1.26346019e+00 1.33141568e+00 1.71090158e+00]\n",
      " [7.95669016e-01 3.37848329e-01 7.62758643e-01 1.05353673e+00]\n",
      " [6.74501145e-01 8.19166497e-01 8.76490051e-01 9.22063763e-01]\n",
      " [1.15917263e+00 1.24957601e-01 9.90221459e-01 1.18500970e+00]\n",
      " [1.73673948e-01 1.28197243e+00 7.05892939e-01 1.05353673e+00]\n",
      " [5.25060772e-02 5.87763531e-01 7.62758643e-01 1.57942861e+00]\n",
      " [6.74501145e-01 3.37848329e-01 8.76490051e-01 1.44795564e+00]\n",
      " [7.95669016e-01 1.24957601e-01 9.90221459e-01 7.90590793e-01]\n",
      " [2.24968346e+00 1.72626612e+00 1.67260991e+00 1.31648267e+00]\n",
      " [2.24968346e+00 1.05056946e+00 1.78634131e+00 1.44795564e+00]\n",
      " [1.89829664e-01 1.97618132e+00 7.05892939e-01 3.96171883e-01]\n",
      " [1.28034050e+00 3.37848329e-01 1.10395287e+00 1.44795564e+00]\n",
      " [2.94841818e-01 5.87763531e-01 6.49027235e-01 1.05353673e+00]\n",
      " [2.24968346e+00 5.87763531e-01 1.67260991e+00 1.05353673e+00]\n",
      " [5.53333275e-01 8.19166497e-01 6.49027235e-01 7.90590793e-01]\n",
      " [1.03800476e+00 5.69251294e-01 1.10395287e+00 1.18500970e+00]\n",
      " [1.64384411e+00 3.37848329e-01 1.27454998e+00 7.90590793e-01]\n",
      " [4.32165405e-01 5.87763531e-01 5.92161531e-01 7.90590793e-01]\n",
      " [3.10997534e-01 1.24957601e-01 6.49027235e-01 7.90590793e-01]\n",
      " [6.74501145e-01 5.87763531e-01 1.04708716e+00 1.18500970e+00]\n",
      " [1.64384411e+00 1.24957601e-01 1.16081857e+00 5.27644853e-01]\n",
      " [1.88617985e+00 5.87763531e-01 1.33141568e+00 9.22063763e-01]\n",
      " [2.49201920e+00 1.72626612e+00 1.50201279e+00 1.05353673e+00]\n",
      " [6.74501145e-01 5.87763531e-01 1.04708716e+00 1.31648267e+00]\n",
      " [5.53333275e-01 5.87763531e-01 7.62758643e-01 3.96171883e-01]\n",
      " [3.10997534e-01 1.05056946e+00 1.04708716e+00 2.64698913e-01]\n",
      " [2.24968346e+00 1.24957601e-01 1.33141568e+00 1.44795564e+00]\n",
      " [5.53333275e-01 8.00654259e-01 1.04708716e+00 1.57942861e+00]\n",
      " [6.74501145e-01 1.06445364e-01 9.90221459e-01 7.90590793e-01]\n",
      " [1.89829664e-01 1.24957601e-01 5.92161531e-01 7.90590793e-01]\n",
      " [1.28034050e+00 1.06445364e-01 9.33355755e-01 1.18500970e+00]\n",
      " [1.03800476e+00 1.06445364e-01 1.04708716e+00 1.57942861e+00]\n",
      " [1.28034050e+00 1.06445364e-01 7.62758643e-01 1.44795564e+00]\n",
      " [5.25060772e-02 8.19166497e-01 7.62758643e-01 9.22063763e-01]\n",
      " [1.15917263e+00 3.37848329e-01 1.21768427e+00 1.44795564e+00]\n",
      " [1.03800476e+00 5.69251294e-01 1.10395287e+00 1.71090158e+00]\n",
      " [1.03800476e+00 1.24957601e-01 8.19624347e-01 1.44795564e+00]\n",
      " [5.53333275e-01 1.28197243e+00 7.05892939e-01 9.22063763e-01]\n",
      " [7.95669016e-01 1.24957601e-01 8.19624347e-01 1.05353673e+00]\n",
      " [4.32165405e-01 8.00654259e-01 9.33355755e-01 1.44795564e+00]\n",
      " [6.86617933e-02 1.24957601e-01 7.62758643e-01 7.90590793e-01]]\n"
     ]
    }
   ],
   "source": [
    "#Z Score\n",
    "z = np.abs(stats.zscore(iris_new))\n",
    "print(z)"
   ]
  },
  {
   "cell_type": "code",
   "execution_count": 95,
   "metadata": {},
   "outputs": [],
   "source": [
    "iris_new = iris_new[(z < 3).all(axis=1)]"
   ]
  },
  {
   "cell_type": "code",
   "execution_count": 100,
   "metadata": {},
   "outputs": [
    {
     "name": "stdout",
     "output_type": "stream",
     "text": [
      "(150, 5)\n",
      "(149, 4)\n"
     ]
    }
   ],
   "source": [
    "print(iris.shape)\n",
    "print(iris_new.shape)"
   ]
  },
  {
   "cell_type": "code",
   "execution_count": 101,
   "metadata": {},
   "outputs": [
    {
     "data": {
      "image/png": "[encoded data removed]",
      "text/plain": [
       "<Figure size 432x288 with 1 Axes>"
      ]
     },
     "metadata": {
      "needs_background": "light"
     },
     "output_type": "display_data"
    }
   ],
   "source": [
    "col = list(iris_new.columns)\n",
    "boxplot = iris_new.boxplot(column=col)"
   ]
  },
  {
   "cell_type": "code",
   "execution_count": null,
   "metadata": {},
   "outputs": [],
   "source": []
  }
 ],
 "metadata": {
  "kernelspec": {
   "display_name": "Python 3",
   "language": "python",
   "name": "python3"
  },
  "language_info": {
   "codemirror_mode": {
    "name": "ipython",
    "version": 3
   },
   "file_extension": ".py",
   "mimetype": "text/x-python",
   "name": "python",
   "nbconvert_exporter": "python",
   "pygments_lexer": "ipython3",
   "version": "3.7.6"
  }
 },
 "nbformat": 4,
 "nbformat_minor": 4
}
